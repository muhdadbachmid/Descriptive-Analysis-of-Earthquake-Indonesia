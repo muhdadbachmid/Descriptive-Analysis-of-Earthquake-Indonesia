{
  "metadata": {
    "kernelspec": {
      "language": "python",
      "display_name": "Python 3",
      "name": "python3"
    },
    "language_info": {
      "name": "python",
      "version": "3.10.13",
      "mimetype": "text/x-python",
      "codemirror_mode": {
        "name": "ipython",
        "version": 3
      },
      "pygments_lexer": "ipython3",
      "nbconvert_exporter": "python",
      "file_extension": ".py"
    },
    "kaggle": {
      "accelerator": "none",
      "dataSources": [
        {
          "sourceId": 8068603,
          "sourceType": "datasetVersion",
          "datasetId": 1934565
        }
      ],
      "dockerImageVersionId": 30698,
      "isInternetEnabled": true,
      "language": "python",
      "sourceType": "notebook",
      "isGpuEnabled": false
    },
    "colab": {
      "name": "Descriptive Analysis of Earthquake Indonesia",
      "provenance": [],
      "include_colab_link": true
    }
  },
  "nbformat_minor": 0,
  "nbformat": 4,
  "cells": [
    {
      "cell_type": "markdown",
      "metadata": {
        "id": "view-in-github",
        "colab_type": "text"
      },
      "source": [
        "<a href=\"https://colab.research.google.com/github/muhdadbachmid/Descriptive-Analysis-of-Earthquake-Indonesia/blob/main/Descriptive_Analysis_of_Earthquake_Indonesia.ipynb\" target=\"_parent\"><img src=\"https://colab.research.google.com/assets/colab-badge.svg\" alt=\"Open In Colab\"/></a>"
      ]
    },
    {
      "source": [
        "import os\n",
        "import sys\n",
        "from tempfile import NamedTemporaryFile\n",
        "from urllib.request import urlopen\n",
        "from urllib.parse import unquote, urlparse\n",
        "from urllib.error import HTTPError\n",
        "from zipfile import ZipFile\n",
        "import tarfile\n",
        "import shutil\n",
        "\n",
        "CHUNK_SIZE = 40960\n",
        "DATA_SOURCE_MAPPING = 'earthquakes-in-indonesia:https%3A%2F%2Fstorage.googleapis.com%2Fkaggle-data-sets%2F1934565%2F8068603%2Fbundle%2Farchive.zip%3FX-Goog-Algorithm%3DGOOG4-RSA-SHA256%26X-Goog-Credential%3Dgcp-kaggle-com%2540kaggle-161607.iam.gserviceaccount.com%252F20240510%252Fauto%252Fstorage%252Fgoog4_request%26X-Goog-Date%3D20240510T052433Z%26X-Goog-Expires%3D259200%26X-Goog-SignedHeaders%3Dhost%26X-Goog-Signature%3D949e5df7f67ba4ff0eb74d1968390097b6e5c0cfcc5ced65c074695bf5a3965fcaed358acb2c2c9481406d892e6097ed43c2697b95ac07a5d899f86e4178bab9ca068f73724763896a35b98e4c871ba936c8c52896baeacd0339ae5d25970f36b2cc4a7d2f3e5d958c0db085957cd7e7dc5c308cb8d4e08bd60649a8b89e10f1bdaa87dff76611ef322b444728734014777689b646e3685c0eb1093075fa2b56404b7de6075d00051788d087dd6ae5b1351fabfcbd5b486eafa2a8e4c561b4f16908ce040f59e30465997c5e63b80fd89caa5daadb959ffe3f4fc7a97dbe4616270ba0265e53998d13356646afaec79fdc10a27842ea2067361901dc932fe577'\n",
        "\n",
        "KAGGLE_INPUT_PATH='/kaggle/input'\n",
        "KAGGLE_WORKING_PATH='/kaggle/working'\n",
        "KAGGLE_SYMLINK='kaggle'\n",
        "\n",
        "!umount /kaggle/input/ 2> /dev/null\n",
        "shutil.rmtree('/kaggle/input', ignore_errors=True)\n",
        "os.makedirs(KAGGLE_INPUT_PATH, 0o777, exist_ok=True)\n",
        "os.makedirs(KAGGLE_WORKING_PATH, 0o777, exist_ok=True)\n",
        "\n",
        "try:\n",
        "  os.symlink(KAGGLE_INPUT_PATH, os.path.join(\"..\", 'input'), target_is_directory=True)\n",
        "except FileExistsError:\n",
        "  pass\n",
        "try:\n",
        "  os.symlink(KAGGLE_WORKING_PATH, os.path.join(\"..\", 'working'), target_is_directory=True)\n",
        "except FileExistsError:\n",
        "  pass\n",
        "\n",
        "for data_source_mapping in DATA_SOURCE_MAPPING.split(','):\n",
        "    directory, download_url_encoded = data_source_mapping.split(':')\n",
        "    download_url = unquote(download_url_encoded)\n",
        "    filename = urlparse(download_url).path\n",
        "    destination_path = os.path.join(KAGGLE_INPUT_PATH, directory)\n",
        "    try:\n",
        "        with urlopen(download_url) as fileres, NamedTemporaryFile() as tfile:\n",
        "            total_length = fileres.headers['content-length']\n",
        "            print(f'Downloading {directory}, {total_length} bytes compressed')\n",
        "            dl = 0\n",
        "            data = fileres.read(CHUNK_SIZE)\n",
        "            while len(data) > 0:\n",
        "                dl += len(data)\n",
        "                tfile.write(data)\n",
        "                done = int(50 * dl / int(total_length))\n",
        "                sys.stdout.write(f\"\\r[{'=' * done}{' ' * (50-done)}] {dl} bytes downloaded\")\n",
        "                sys.stdout.flush()\n",
        "                data = fileres.read(CHUNK_SIZE)\n",
        "            if filename.endswith('.zip'):\n",
        "              with ZipFile(tfile) as zfile:\n",
        "                zfile.extractall(destination_path)\n",
        "            else:\n",
        "              with tarfile.open(tfile.name) as tarfile:\n",
        "                tarfile.extractall(destination_path)\n",
        "            print(f'\\nDownloaded and uncompressed: {directory}')\n",
        "    except HTTPError as e:\n",
        "        print(f'Failed to load (likely expired) {download_url} to path {destination_path}')\n",
        "        continue\n",
        "    except OSError as e:\n",
        "        print(f'Failed to load {download_url} to path {destination_path}')\n",
        "        continue\n",
        "\n",
        "print('Data source import complete.')\n"
      ],
      "metadata": {
        "colab": {
          "base_uri": "https://localhost:8080/"
        },
        "id": "wOVx-4Mn9fdr",
        "outputId": "c76c2674-6bbd-4a3a-8f50-1721c39f8b31"
      },
      "cell_type": "code",
      "outputs": [
        {
          "output_type": "stream",
          "name": "stdout",
          "text": [
            "Downloading earthquakes-in-indonesia, 7509531 bytes compressed\n",
            "[==================================================] 7509531 bytes downloaded\n",
            "Downloaded and uncompressed: earthquakes-in-indonesia\n",
            "Data source import complete.\n"
          ]
        }
      ],
      "execution_count": 2
    },
    {
      "cell_type": "markdown",
      "source": [
        "# Descriptive Analysis of Earthquake Data in Indonesia"
      ],
      "metadata": {
        "jupyter": {
          "source_hidden": true
        },
        "id": "jBeiHh7r9fd_"
      }
    },
    {
      "cell_type": "markdown",
      "source": [
        "*Introduction*\n",
        "\n",
        "My objective is to analyze earthquake data sourced from Indonesia. The dataset comprises vital information regarding earthquakes, encompassing their depth, magnitude, latitude, and longitude. My primary aim is to conduct a comprehensive descriptive analysis to unearth insights into the distribution and attributes of earthquakes occurring in Indonesia.\n",
        "\n"
      ],
      "metadata": {
        "id": "wVUoFFSm9feH"
      }
    },
    {
      "cell_type": "markdown",
      "source": [
        "Step 1: Importing Necessary Libraries:\n",
        "\n",
        "To initiate the analysis, I commence by importing indispensable libraries, including pandas for data manipulation and numpy for mathematical operations."
      ],
      "metadata": {
        "id": "dWW6PgJt9feK"
      }
    },
    {
      "cell_type": "code",
      "source": [
        "import pandas as pd\n",
        "import numpy as np"
      ],
      "metadata": {
        "execution": {
          "iopub.status.busy": "2024-05-09T16:39:12.317585Z",
          "iopub.execute_input": "2024-05-09T16:39:12.318324Z",
          "iopub.status.idle": "2024-05-09T16:39:12.323518Z",
          "shell.execute_reply.started": "2024-05-09T16:39:12.318286Z",
          "shell.execute_reply": "2024-05-09T16:39:12.32211Z"
        },
        "trusted": true,
        "id": "gg9aiFBy9feL"
      },
      "execution_count": 3,
      "outputs": []
    },
    {
      "cell_type": "markdown",
      "source": [
        "Step 2: Loading the Data:\n",
        "\n",
        "I proceed to load the earthquake dataset from the provided CSV file utilizing the read_csv() function within the pandas library."
      ],
      "metadata": {
        "id": "X4WyAdLK9feN"
      }
    },
    {
      "cell_type": "code",
      "source": [
        "data = pd.read_csv('/kaggle/input/earthquakes-in-indonesia/katalog_gempa.csv')\n"
      ],
      "metadata": {
        "execution": {
          "iopub.status.busy": "2024-05-09T16:39:12.342786Z",
          "iopub.execute_input": "2024-05-09T16:39:12.343177Z",
          "iopub.status.idle": "2024-05-09T16:39:12.565739Z",
          "shell.execute_reply.started": "2024-05-09T16:39:12.343147Z",
          "shell.execute_reply": "2024-05-09T16:39:12.564424Z"
        },
        "trusted": true,
        "id": "35Ghcenh9feO"
      },
      "execution_count": 4,
      "outputs": []
    },
    {
      "cell_type": "markdown",
      "source": [
        "Step 3: Data Cleansing:\n",
        "\n",
        "Initially, I address any missing values within the dataset by employing the forward fill method to ensure data integrity. Following this, I eliminate any duplicate entries to maintain data accuracy."
      ],
      "metadata": {
        "id": "sEMzfhOc9feP"
      }
    },
    {
      "cell_type": "code",
      "source": [
        "data = data.ffill()\n",
        "data = data.drop_duplicates()"
      ],
      "metadata": {
        "execution": {
          "iopub.status.busy": "2024-05-09T16:39:12.570734Z",
          "iopub.execute_input": "2024-05-09T16:39:12.571136Z",
          "iopub.status.idle": "2024-05-09T16:39:12.712352Z",
          "shell.execute_reply.started": "2024-05-09T16:39:12.571101Z",
          "shell.execute_reply": "2024-05-09T16:39:12.711072Z"
        },
        "trusted": true,
        "id": "4j2s3sIf9feR"
      },
      "execution_count": 5,
      "outputs": []
    },
    {
      "cell_type": "markdown",
      "source": [
        "Step 4: Outlier Detection and Removal:\n",
        "\n",
        "Subsequently, I embark on the task of detecting and subsequently removing outliers present within features such as depth, magnitude, latitude, and longitude. This process is undertaken utilizing the Interquartile Range (IQR) method, ensuring the reliability of subsequent analysis.\n",
        "\n"
      ],
      "metadata": {
        "id": "Qpwo5-oX9feS"
      }
    },
    {
      "cell_type": "code",
      "source": [
        "for column in ['depth', 'mag', 'lat', 'lon']:\n",
        "    Q1 = data[column].quantile(0.25)\n",
        "    Q3 = data[column].quantile(0.75)\n",
        "    IQR = Q3 - Q1\n",
        "    data = data[~((data[column] < (Q1 - 1.5 * IQR)) | (data[column] > (Q3 + 1.5 * IQR)))]"
      ],
      "metadata": {
        "execution": {
          "iopub.status.busy": "2024-05-09T16:39:12.71427Z",
          "iopub.execute_input": "2024-05-09T16:39:12.715336Z",
          "iopub.status.idle": "2024-05-09T16:39:12.775379Z",
          "shell.execute_reply.started": "2024-05-09T16:39:12.715293Z",
          "shell.execute_reply": "2024-05-09T16:39:12.774229Z"
        },
        "trusted": true,
        "id": "T6UqDWgP9feT"
      },
      "execution_count": 6,
      "outputs": []
    },
    {
      "cell_type": "markdown",
      "source": [
        "Step 5: Calculating Descriptive Statistics:\n",
        "\n",
        "The subsequent phase involves the calculation of fundamental descriptive statistics, including mean, median, mode, and standard deviation, pertaining to depth, magnitude, latitude, and longitude. These statistics serve as invaluable metrics, offering insights into the central tendencies, variability, and distribution of earthquake occurrences."
      ],
      "metadata": {
        "id": "CswY6XYi9feU"
      }
    },
    {
      "cell_type": "code",
      "source": [
        "#depth\n",
        "\n",
        "mean_depth = data['depth'].mean()\n",
        "median_depth = data['depth'].median()\n",
        "mode_depth = data['depth'].mode()[0]\n",
        "std_dev_depth = data['depth'].std()\n",
        "\n",
        "#mag\n",
        "\n",
        "mean_mag = data['mag'].mean()\n",
        "median_mag = data['mag'].median()\n",
        "mode_mag = data['mag'].mode()[0]\n",
        "std_dev_mag = data['mag'].std()\n",
        "\n",
        "#lat\n",
        "\n",
        "mean_lat = data['lat'].mean()\n",
        "median_lat = data['lat'].median()\n",
        "mode_lat = data['lat'].mode()[0]\n",
        "std_dev_lat = data['lat'].std()\n",
        "\n",
        "#lon\n",
        "\n",
        "mean_lon = data['lon'].mean()\n",
        "median_lon = data['lon'].median()\n",
        "mode_lon = data['lon'].mode()[0]\n",
        "std_dev_lon = data['lon'].std()"
      ],
      "metadata": {
        "execution": {
          "iopub.status.busy": "2024-05-09T16:39:12.777976Z",
          "iopub.execute_input": "2024-05-09T16:39:12.778372Z",
          "iopub.status.idle": "2024-05-09T16:39:12.807241Z",
          "shell.execute_reply.started": "2024-05-09T16:39:12.778339Z",
          "shell.execute_reply": "2024-05-09T16:39:12.805581Z"
        },
        "trusted": true,
        "id": "2j4fyCgA9feV"
      },
      "execution_count": 7,
      "outputs": []
    },
    {
      "cell_type": "markdown",
      "source": [
        "Step 6: Printing Results:\n",
        "\n",
        "Concluding the analysis, I print the calculated statistics to the screen, facilitating facile interpretation and further analysis"
      ],
      "metadata": {
        "id": "XThsfEKv9feW"
      }
    },
    {
      "cell_type": "code",
      "source": [
        "print(\"Depth - Mean: \", mean_depth, \" Median: \", median_depth, \" Mode: \", mode_depth, \" Std Dev: \", std_dev_depth)\n",
        "print(\"Magnitude - Mean: \", mean_mag, \" Median: \", median_mag, \" Mode: \", mode_mag, \" Std Dev: \", std_dev_mag)\n",
        "print(\"Latitude - Mean: \", mean_lat, \" Median: \", median_lat, \" Mode: \", mode_lat, \" Std Dev: \", std_dev_lat)\n",
        "print(\"Longitude - Mean: \", mean_lon, \" Median: \", median_lon, \" Mode: \", mode_lon, \" Std Dev: \", std_dev_lon)"
      ],
      "metadata": {
        "execution": {
          "iopub.status.busy": "2024-05-09T16:39:12.809181Z",
          "iopub.execute_input": "2024-05-09T16:39:12.809799Z",
          "iopub.status.idle": "2024-05-09T16:39:12.817115Z",
          "shell.execute_reply.started": "2024-05-09T16:39:12.809756Z",
          "shell.execute_reply": "2024-05-09T16:39:12.815772Z"
        },
        "trusted": true,
        "colab": {
          "base_uri": "https://localhost:8080/"
        },
        "id": "B3tKT4y99feX",
        "outputId": "0cf09196-b3c8-4424-9986-1ea9dba4dcaf"
      },
      "execution_count": 8,
      "outputs": [
        {
          "output_type": "stream",
          "name": "stdout",
          "text": [
            "Depth - Mean:  25.298617770787782  Median:  12.0  Mode:  10  Std Dev:  25.077021746480174\n",
            "Magnitude - Mean:  3.481641029575358  Median:  3.4  Mode:  3.3  Std Dev:  0.7697849433720615\n",
            "Latitude - Mean:  -3.4370139501579136  Median:  -2.87  Mode:  -8.29  Std Dev:  4.328459166930589\n",
            "Longitude - Mean:  118.74502666001766  Median:  120.46  Mode:  128.38  Std Dev:  10.992302426928497\n"
          ]
        }
      ]
    },
    {
      "cell_type": "markdown",
      "source": [
        "*Result*\n",
        "\n",
        "Depth: The average depth of the earthquakes is approximately 25.30 km, with a median of 12 km. The most frequently occurring depth (mode) is 10 km. The standard deviation of 25.08 indicates a moderate spread of earthquake depths around the mean.\n",
        "\n",
        "Magnitude: The average magnitude of the earthquakes is approximately 3.48, with a median of 3.4. The most frequently occurring magnitude (mode) is 3.3. The standard deviation of 0.77 indicates a relatively small spread of earthquake magnitudes around the mean.\n",
        "\n",
        "Latitude: The average latitude of the earthquake epicenters is approximately -3.44 degrees, with a median of -2.87 degrees. The most frequently occurring latitude (mode) is -8.29 degrees. The standard deviation of 4.33 indicates a moderate spread of earthquake epicenters around the mean latitude.\n",
        "\n",
        "Longitude: The average longitude of the earthquake epicenters is approximately 118.75 degrees, with a median of 120.46 degrees. The most frequently occurring longitude (mode) is 128.38 degrees. The standard deviation of 10.99 indicates a moderate spread of earthquake epicenters around the mean longitude."
      ],
      "metadata": {
        "id": "h6lr37cZ9feY"
      }
    }
  ]
}